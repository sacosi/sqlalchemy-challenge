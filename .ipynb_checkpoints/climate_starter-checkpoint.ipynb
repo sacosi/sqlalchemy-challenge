{
 "cells": [
  {
   "cell_type": "code",
   "execution_count": 1,
   "metadata": {},
   "outputs": [],
   "source": [
    "%matplotlib inline\n",
    "from matplotlib import style\n",
    "style.use('fivethirtyeight')\n",
    "import matplotlib.pyplot as plt"
   ]
  },
  {
   "cell_type": "code",
   "execution_count": 2,
   "metadata": {},
   "outputs": [],
   "source": [
    "import numpy as np\n",
    "import pandas as pd"
   ]
  },
  {
   "cell_type": "code",
   "execution_count": 3,
   "metadata": {},
   "outputs": [],
   "source": [
    "import datetime as dt"
   ]
  },
  {
   "cell_type": "markdown",
   "metadata": {},
   "source": [
    "# Reflect Tables into SQLAlchemy ORM"
   ]
  },
  {
   "cell_type": "code",
   "execution_count": 4,
   "metadata": {},
   "outputs": [],
   "source": [
    "# Python SQL toolkit and Object Relational Mapper\n",
    "import sqlalchemy\n",
    "from sqlalchemy.ext.automap import automap_base\n",
    "from sqlalchemy.orm import Session\n",
    "from sqlalchemy import create_engine, func"
   ]
  },
  {
   "cell_type": "code",
   "execution_count": 5,
   "metadata": {},
   "outputs": [],
   "source": [
    "engine = create_engine(\"sqlite:///Resources/hawaii.sqlite\")"
   ]
  },
  {
   "cell_type": "code",
   "execution_count": 6,
   "metadata": {},
   "outputs": [],
   "source": [
    "# reflect an existing database into a new model\n",
    "# reflect the tables\n",
    "Base = automap_base()\n",
    "Base.prepare(engine, reflect=True)"
   ]
  },
  {
   "cell_type": "code",
   "execution_count": 7,
   "metadata": {},
   "outputs": [
    {
     "data": {
      "text/plain": [
       "['measurement', 'station']"
      ]
     },
     "execution_count": 7,
     "metadata": {},
     "output_type": "execute_result"
    }
   ],
   "source": [
    "# We cBase.classes.keys()an view all of the classes that automap found\n",
    "Base.classes.keys()"
   ]
  },
  {
   "cell_type": "code",
   "execution_count": 8,
   "metadata": {},
   "outputs": [],
   "source": [
    "# Save references to each table\n",
    "Measurement = Base.classes.measurement\n",
    "Station = Base.classes.station"
   ]
  },
  {
   "cell_type": "code",
   "execution_count": 9,
   "metadata": {},
   "outputs": [],
   "source": [
    "# Create our session (link) from Python to the DB\n",
    "session = Session(bind=engine)"
   ]
  },
  {
   "cell_type": "code",
   "execution_count": 10,
   "metadata": {},
   "outputs": [],
   "source": [
    "#Importing inspect to see the column names\n",
    "from sqlalchemy import  inspect\n",
    "inspector = inspect(engine)"
   ]
  },
  {
   "cell_type": "code",
   "execution_count": 11,
   "metadata": {},
   "outputs": [
    {
     "name": "stdout",
     "output_type": "stream",
     "text": [
      "id INTEGER\n",
      "station TEXT\n",
      "date TEXT\n",
      "prcp FLOAT\n",
      "tobs FLOAT\n"
     ]
    }
   ],
   "source": [
    "#Inspecting table measurement\n",
    "columns = inspector.get_columns('measurement')\n",
    "for column in columns:\n",
    "    print(column[\"name\"], column[\"type\"])"
   ]
  },
  {
   "cell_type": "code",
   "execution_count": 12,
   "metadata": {},
   "outputs": [
    {
     "name": "stdout",
     "output_type": "stream",
     "text": [
      "id INTEGER\n",
      "station TEXT\n",
      "name TEXT\n",
      "latitude FLOAT\n",
      "longitude FLOAT\n",
      "elevation FLOAT\n"
     ]
    }
   ],
   "source": [
    "#Inspecting table station\n",
    "columns = inspector.get_columns('station')\n",
    "for column in columns:\n",
    "    print(column[\"name\"], column[\"type\"])"
   ]
  },
  {
   "cell_type": "markdown",
   "metadata": {},
   "source": [
    "# Exploratory Climate Analysis"
   ]
  },
  {
   "cell_type": "code",
   "execution_count": 13,
   "metadata": {},
   "outputs": [],
   "source": [
    "# Design a query to retrieve the last 12 months of precipitation data and plot the results"
   ]
  },
  {
   "cell_type": "code",
   "execution_count": 14,
   "metadata": {},
   "outputs": [
    {
     "name": "stdout",
     "output_type": "stream",
     "text": [
      "1 year ago from the last data point in the database is 2016-08-23\n"
     ]
    }
   ],
   "source": [
    "# Calculate the date 1 year ago from the last data point in the database\n",
    "\n",
    "# Querying the DB for the latest date we have data for\n",
    "lastDate=session.query(Measurement.date).order_by(Measurement.date.desc()).first()\n",
    "for date in lastDate:\n",
    "    dataArray = date.split(\"-\")\n",
    "    (year,month,day) = dataArray\n",
    "\n",
    "# Calculating one year before that\n",
    "year_ago = dt.date(int(year),int(month),int(day)) - dt.timedelta(days=365)\n",
    "year_ago=year_ago.isoformat()\n",
    "print(f'1 year ago from the last data point in the database is {year_ago}')"
   ]
  },
  {
   "cell_type": "code",
   "execution_count": 15,
   "metadata": {},
   "outputs": [],
   "source": [
    "# Perform a query to retrieve the data and precipitation scores\n",
    "\n",
    "# QUerying the last 12 months of data\n",
    "results=session.query(Measurement).filter(Measurement.date >= year_ago).all()\n",
    "\n",
    "# Creating empty arrays to append data to later\n",
    "dates=[]\n",
    "prcp=[]\n",
    "\n",
    "# Going through the values and appending data to the srrays created before\n",
    "for row in results:\n",
    "    dates.append(row.date)\n",
    "    prcp.append(row.prcp)"
   ]
  },
  {
   "cell_type": "code",
   "execution_count": 16,
   "metadata": {},
   "outputs": [],
   "source": [
    "# Save the query results as a Pandas DataFrame and set the index to the date column\n",
    "\n",
    "# Creating a DF to present the data\n",
    "last12Months_df=pd.DataFrame({\n",
    "    'Date':dates,\n",
    "    'Precipitation':prcp\n",
    "})\n",
    "\n",
    "# Setting the Date as the index of teh DF\n",
    "last12Months_df=last12Months_df.set_index('Date')"
   ]
  },
  {
   "cell_type": "code",
   "execution_count": 17,
   "metadata": {},
   "outputs": [
    {
     "data": {
      "text/html": [
       "<div>\n",
       "<style scoped>\n",
       "    .dataframe tbody tr th:only-of-type {\n",
       "        vertical-align: middle;\n",
       "    }\n",
       "\n",
       "    .dataframe tbody tr th {\n",
       "        vertical-align: top;\n",
       "    }\n",
       "\n",
       "    .dataframe thead th {\n",
       "        text-align: right;\n",
       "    }\n",
       "</style>\n",
       "<table border=\"1\" class=\"dataframe\">\n",
       "  <thead>\n",
       "    <tr style=\"text-align: right;\">\n",
       "      <th></th>\n",
       "      <th>Precipitation</th>\n",
       "    </tr>\n",
       "    <tr>\n",
       "      <th>Date</th>\n",
       "      <th></th>\n",
       "    </tr>\n",
       "  </thead>\n",
       "  <tbody>\n",
       "    <tr>\n",
       "      <td>2016-08-23</td>\n",
       "      <td>0.00</td>\n",
       "    </tr>\n",
       "    <tr>\n",
       "      <td>2016-08-23</td>\n",
       "      <td>NaN</td>\n",
       "    </tr>\n",
       "    <tr>\n",
       "      <td>2016-08-23</td>\n",
       "      <td>1.79</td>\n",
       "    </tr>\n",
       "    <tr>\n",
       "      <td>2016-08-23</td>\n",
       "      <td>0.05</td>\n",
       "    </tr>\n",
       "    <tr>\n",
       "      <td>2016-08-23</td>\n",
       "      <td>0.15</td>\n",
       "    </tr>\n",
       "    <tr>\n",
       "      <td>...</td>\n",
       "      <td>...</td>\n",
       "    </tr>\n",
       "    <tr>\n",
       "      <td>2017-08-22</td>\n",
       "      <td>0.00</td>\n",
       "    </tr>\n",
       "    <tr>\n",
       "      <td>2017-08-23</td>\n",
       "      <td>0.00</td>\n",
       "    </tr>\n",
       "    <tr>\n",
       "      <td>2017-08-23</td>\n",
       "      <td>0.00</td>\n",
       "    </tr>\n",
       "    <tr>\n",
       "      <td>2017-08-23</td>\n",
       "      <td>0.08</td>\n",
       "    </tr>\n",
       "    <tr>\n",
       "      <td>2017-08-23</td>\n",
       "      <td>0.45</td>\n",
       "    </tr>\n",
       "  </tbody>\n",
       "</table>\n",
       "<p>2230 rows × 1 columns</p>\n",
       "</div>"
      ],
      "text/plain": [
       "            Precipitation\n",
       "Date                     \n",
       "2016-08-23           0.00\n",
       "2016-08-23            NaN\n",
       "2016-08-23           1.79\n",
       "2016-08-23           0.05\n",
       "2016-08-23           0.15\n",
       "...                   ...\n",
       "2017-08-22           0.00\n",
       "2017-08-23           0.00\n",
       "2017-08-23           0.00\n",
       "2017-08-23           0.08\n",
       "2017-08-23           0.45\n",
       "\n",
       "[2230 rows x 1 columns]"
      ]
     },
     "execution_count": 17,
     "metadata": {},
     "output_type": "execute_result"
    }
   ],
   "source": [
    "# Sort the dataframe by date\n",
    "last12Months_df=last12Months_df.sort_values(by='Date')\n",
    "last12Months_df"
   ]
  },
  {
   "cell_type": "code",
   "execution_count": 18,
   "metadata": {},
   "outputs": [
    {
     "data": {
      "image/png": "[encoded data removed]",
      "text/plain": [
       "<Figure size 1080x720 with 1 Axes>"
      ]
     },
     "metadata": {
      "needs_background": "light"
     },
     "output_type": "display_data"
    }
   ],
   "source": [
    "# Use Pandas Plotting with Matplotlib to plot the data\n",
    "\n",
    "# Ploting and saving the Last 12 months of precipitation Data\n",
    "ax=last12Months_df.plot(figsize=(15,10),rot=90,fontsize=12)\n",
    "plt.xlabel(\"Date\",fontsize=18)\n",
    "plt.ylabel(\"Inches\",fontsize=18)\n",
    "plt.title('Last 12 months of precipitation data',fontsize=18)\n",
    "plt.savefig('images/precipitation data.png')\n",
    "plt.show()"
   ]
  },
  {
   "cell_type": "code",
   "execution_count": 19,
   "metadata": {},
   "outputs": [
    {
     "data": {
      "text/html": [
       "<div>\n",
       "<style scoped>\n",
       "    .dataframe tbody tr th:only-of-type {\n",
       "        vertical-align: middle;\n",
       "    }\n",
       "\n",
       "    .dataframe tbody tr th {\n",
       "        vertical-align: top;\n",
       "    }\n",
       "\n",
       "    .dataframe thead th {\n",
       "        text-align: right;\n",
       "    }\n",
       "</style>\n",
       "<table border=\"1\" class=\"dataframe\">\n",
       "  <thead>\n",
       "    <tr style=\"text-align: right;\">\n",
       "      <th></th>\n",
       "      <th>Precipitation</th>\n",
       "    </tr>\n",
       "  </thead>\n",
       "  <tbody>\n",
       "    <tr>\n",
       "      <td>count</td>\n",
       "      <td>2021.000000</td>\n",
       "    </tr>\n",
       "    <tr>\n",
       "      <td>mean</td>\n",
       "      <td>0.177279</td>\n",
       "    </tr>\n",
       "    <tr>\n",
       "      <td>std</td>\n",
       "      <td>0.461190</td>\n",
       "    </tr>\n",
       "    <tr>\n",
       "      <td>min</td>\n",
       "      <td>0.000000</td>\n",
       "    </tr>\n",
       "    <tr>\n",
       "      <td>25%</td>\n",
       "      <td>0.000000</td>\n",
       "    </tr>\n",
       "    <tr>\n",
       "      <td>50%</td>\n",
       "      <td>0.020000</td>\n",
       "    </tr>\n",
       "    <tr>\n",
       "      <td>75%</td>\n",
       "      <td>0.130000</td>\n",
       "    </tr>\n",
       "    <tr>\n",
       "      <td>max</td>\n",
       "      <td>6.700000</td>\n",
       "    </tr>\n",
       "  </tbody>\n",
       "</table>\n",
       "</div>"
      ],
      "text/plain": [
       "       Precipitation\n",
       "count    2021.000000\n",
       "mean        0.177279\n",
       "std         0.461190\n",
       "min         0.000000\n",
       "25%         0.000000\n",
       "50%         0.020000\n",
       "75%         0.130000\n",
       "max         6.700000"
      ]
     },
     "execution_count": 19,
     "metadata": {},
     "output_type": "execute_result"
    }
   ],
   "source": [
    "# Use Pandas to calcualte the summary statistics for the precipitation data\n",
    "last12Months_df.describe()"
   ]
  },
  {
   "cell_type": "code",
   "execution_count": 20,
   "metadata": {},
   "outputs": [
    {
     "name": "stdout",
     "output_type": "stream",
     "text": [
      "There are 9 stations available in this dataset\n"
     ]
    }
   ],
   "source": [
    "# Design a query to show how many stations are available in this dataset?\n",
    "\n",
    "# Query the stations table in the DB and do a count\n",
    "stationsCount=session.query(Station.station).count()\n",
    "print(f'There are {stationsCount} stations available in this dataset')"
   ]
  },
  {
   "cell_type": "code",
   "execution_count": 21,
   "metadata": {},
   "outputs": [
    {
     "name": "stdout",
     "output_type": "stream",
     "text": [
      "The most active station is USC00519281 - WAIHEE 837.5, HI US\n"
     ]
    },
    {
     "data": {
      "text/html": [
       "<div>\n",
       "<style scoped>\n",
       "    .dataframe tbody tr th:only-of-type {\n",
       "        vertical-align: middle;\n",
       "    }\n",
       "\n",
       "    .dataframe tbody tr th {\n",
       "        vertical-align: top;\n",
       "    }\n",
       "\n",
       "    .dataframe thead th {\n",
       "        text-align: right;\n",
       "    }\n",
       "</style>\n",
       "<table border=\"1\" class=\"dataframe\">\n",
       "  <thead>\n",
       "    <tr style=\"text-align: right;\">\n",
       "      <th></th>\n",
       "      <th>Station Name</th>\n",
       "      <th>Count</th>\n",
       "    </tr>\n",
       "    <tr>\n",
       "      <th>Station ID</th>\n",
       "      <th></th>\n",
       "      <th></th>\n",
       "    </tr>\n",
       "  </thead>\n",
       "  <tbody>\n",
       "    <tr>\n",
       "      <td>USC00519281</td>\n",
       "      <td>WAIHEE 837.5, HI US</td>\n",
       "      <td>2772</td>\n",
       "    </tr>\n",
       "    <tr>\n",
       "      <td>USC00519397</td>\n",
       "      <td>WAIKIKI 717.2, HI US</td>\n",
       "      <td>2724</td>\n",
       "    </tr>\n",
       "    <tr>\n",
       "      <td>USC00513117</td>\n",
       "      <td>KANEOHE 838.1, HI US</td>\n",
       "      <td>2709</td>\n",
       "    </tr>\n",
       "    <tr>\n",
       "      <td>USC00519523</td>\n",
       "      <td>WAIMANALO EXPERIMENTAL FARM, HI US</td>\n",
       "      <td>2669</td>\n",
       "    </tr>\n",
       "    <tr>\n",
       "      <td>USC00516128</td>\n",
       "      <td>MANOA LYON ARBO 785.2, HI US</td>\n",
       "      <td>2612</td>\n",
       "    </tr>\n",
       "    <tr>\n",
       "      <td>USC00514830</td>\n",
       "      <td>KUALOA RANCH HEADQUARTERS 886.9, HI US</td>\n",
       "      <td>2202</td>\n",
       "    </tr>\n",
       "    <tr>\n",
       "      <td>USC00511918</td>\n",
       "      <td>HONOLULU OBSERVATORY 702.2, HI US</td>\n",
       "      <td>1979</td>\n",
       "    </tr>\n",
       "    <tr>\n",
       "      <td>USC00517948</td>\n",
       "      <td>PEARL CITY, HI US</td>\n",
       "      <td>1372</td>\n",
       "    </tr>\n",
       "    <tr>\n",
       "      <td>USC00518838</td>\n",
       "      <td>UPPER WAHIAWA 874.3, HI US</td>\n",
       "      <td>511</td>\n",
       "    </tr>\n",
       "  </tbody>\n",
       "</table>\n",
       "</div>"
      ],
      "text/plain": [
       "                                       Station Name  Count\n",
       "Station ID                                                \n",
       "USC00519281                     WAIHEE 837.5, HI US   2772\n",
       "USC00519397                    WAIKIKI 717.2, HI US   2724\n",
       "USC00513117                    KANEOHE 838.1, HI US   2709\n",
       "USC00519523      WAIMANALO EXPERIMENTAL FARM, HI US   2669\n",
       "USC00516128            MANOA LYON ARBO 785.2, HI US   2612\n",
       "USC00514830  KUALOA RANCH HEADQUARTERS 886.9, HI US   2202\n",
       "USC00511918       HONOLULU OBSERVATORY 702.2, HI US   1979\n",
       "USC00517948                       PEARL CITY, HI US   1372\n",
       "USC00518838              UPPER WAHIAWA 874.3, HI US    511"
      ]
     },
     "execution_count": 21,
     "metadata": {},
     "output_type": "execute_result"
    }
   ],
   "source": [
    "# What are the most active stations? (i.e. what stations have the most rows)?\n",
    "# List the stations and the counts in descending order.\n",
    "\n",
    "# Querying DB for the most active station. Had to join the 2 tables to get the name of the station.\n",
    "results=session.query(Station.station,Station.name,func.count(Measurement.id)).\\\n",
    "    filter(Station.station == Measurement.station).\\\n",
    "    group_by(Measurement.station).\\\n",
    "    order_by(func.count(Measurement.id).desc()).all()\n",
    "\n",
    "# Created the empty arrays to append values to later\n",
    "stationId=[]\n",
    "stationName=[]\n",
    "stationCount=[]\n",
    "\n",
    "# Appending the values from the query to the arrays created above\n",
    "for id,name,count in results:\n",
    "    stationId.append(id)\n",
    "    stationName.append(name)\n",
    "    stationCount.append(count)\n",
    "\n",
    "# Creating a DataFrame just for the values to be presented in a better form\n",
    "stationCount_df=pd.DataFrame({\n",
    "    'Station ID':stationId,\n",
    "    'Station Name':stationName,\n",
    "    'Count':stationCount\n",
    "})\n",
    "\n",
    "#Setting the ID as the index\n",
    "stationCount_df=stationCount_df.set_index('Station ID')\n",
    "#Id of the most active station\n",
    "maxCountStation=stationCount_df['Count'].idxmax()\n",
    "\n",
    "print(f\"The most active station is {maxCountStation} - {stationCount_df.loc[maxCountStation,'Station Name']}\")\n",
    "\n",
    "stationCount_df\n",
    "      "
   ]
  },
  {
   "cell_type": "code",
   "execution_count": 22,
   "metadata": {},
   "outputs": [
    {
     "data": {
      "text/html": [
       "<div>\n",
       "<style scoped>\n",
       "    .dataframe tbody tr th:only-of-type {\n",
       "        vertical-align: middle;\n",
       "    }\n",
       "\n",
       "    .dataframe tbody tr th {\n",
       "        vertical-align: top;\n",
       "    }\n",
       "\n",
       "    .dataframe thead th {\n",
       "        text-align: right;\n",
       "    }\n",
       "</style>\n",
       "<table border=\"1\" class=\"dataframe\">\n",
       "  <thead>\n",
       "    <tr style=\"text-align: right;\">\n",
       "      <th></th>\n",
       "      <th>Max Temperature</th>\n",
       "      <th>Min Temperature</th>\n",
       "      <th>Avg Temperature</th>\n",
       "    </tr>\n",
       "    <tr>\n",
       "      <th>Station ID</th>\n",
       "      <th></th>\n",
       "      <th></th>\n",
       "      <th></th>\n",
       "    </tr>\n",
       "  </thead>\n",
       "  <tbody>\n",
       "    <tr>\n",
       "      <td>USC00519281</td>\n",
       "      <td>85.0</td>\n",
       "      <td>54.0</td>\n",
       "      <td>71.66</td>\n",
       "    </tr>\n",
       "  </tbody>\n",
       "</table>\n",
       "</div>"
      ],
      "text/plain": [
       "             Max Temperature  Min Temperature  Avg Temperature\n",
       "Station ID                                                    \n",
       "USC00519281             85.0             54.0            71.66"
      ]
     },
     "execution_count": 22,
     "metadata": {},
     "output_type": "execute_result"
    }
   ],
   "source": [
    "# Using the station id from the previous query, calculate the lowest temperature recorded, \n",
    "# highest temperature recorded, and average temperature of the most active station?\n",
    "\n",
    "# Querying the DB for the max, min and avg temp of the most active station\n",
    "results=session.query(Measurement.station,func.max(Measurement.tobs),func.min(Measurement.tobs),func.avg(Measurement.tobs)).\\\n",
    "    filter(Measurement.station==maxCountStation).\\\n",
    "    group_by(Measurement.station).all()\n",
    "\n",
    "# Unpacking the values\n",
    "for value in results:\n",
    "    (id,max,min,avg)=value\n",
    "\n",
    "# Creating a Data Frame just to better present the results\n",
    "stationStats_df=pd.DataFrame({\n",
    "    'Station ID':[id],\n",
    "    'Max Temperature':max,\n",
    "    'Min Temperature':min,\n",
    "    'Avg Temperature':round(avg,2)\n",
    "})\n",
    "\n",
    "# Setting the ID as the index \n",
    "stationStats_df=stationStats_df.set_index('Station ID')\n",
    "stationStats_df"
   ]
  },
  {
   "cell_type": "code",
   "execution_count": 23,
   "metadata": {},
   "outputs": [
    {
     "name": "stdout",
     "output_type": "stream",
     "text": [
      "The Station with the highest number of temperature observations is USC00519281 - WAIHEE 837.5, HI US\n"
     ]
    }
   ],
   "source": [
    "# Choose the station with the highest number of temperature observations.\n",
    "\n",
    "# Querying for the station with the highest number of temp observations. \n",
    "# The difference from the query below is that the previous one I counte on Measurement.id and this one on Measurement.tobs\n",
    "data=session.query(Measurement.station,Station.name,func.count(Measurement.tobs)).\\\n",
    "    filter(Measurement.station==Station.station).\\\n",
    "    group_by(Measurement.station,Station.station).\\\n",
    "    order_by(func.count(Measurement.tobs).desc()).\\\n",
    "    first()\n",
    "\n",
    "# Unpacking the results\n",
    "(maxStationID,maxStationName,temp) = data\n",
    "print(f'The Station with the highest number of temperature observations is {maxStationID} - {maxStationName}')"
   ]
  },
  {
   "cell_type": "code",
   "execution_count": 24,
   "metadata": {},
   "outputs": [
    {
     "data": {
      "image/png": "[encoded data removed]",
      "text/plain": [
       "<Figure size 1080x720 with 1 Axes>"
      ]
     },
     "metadata": {
      "needs_background": "light"
     },
     "output_type": "display_data"
    }
   ],
   "source": [
    "# Query the last 12 months of temperature observation data for this station and plot the results as a histogram\n",
    "\n",
    "# Querying the DB for the latest date we have a temp observation for station USC00519281\n",
    "lastDate=session.query(Measurement.date).filter(Measurement.station == maxStationID).order_by(Measurement.date.desc()).first()\n",
    "for date in lastDate:\n",
    "    dataArray = date.split(\"-\")\n",
    "    (year,month,day) = dataArray\n",
    "\n",
    "# Calculating one year before that to have the start and end date for the query\n",
    "year_agoStation = dt.date(int(year),int(month),int(day)) - dt.timedelta(days=365)\n",
    "\n",
    "# Querying the DB for the last 12 months of data for station USC00519281.\n",
    "results=session.query(Measurement).filter(Measurement.date >= year_agoStation).\\\n",
    "    filter(Measurement.station == maxStationID).all()\n",
    "\n",
    "# Creating empty arrays to add data to later\n",
    "USC00519281date=[]\n",
    "USC00519281temp=[]\n",
    "\n",
    "# Appending data to the arrays created before\n",
    "for row in results:\n",
    "    USC00519281date.append(row.date)\n",
    "    USC00519281temp.append(row.tobs)\n",
    "\n",
    "# Creating a DF to present the data\n",
    "USC00519281_df=pd.DataFrame({\n",
    "    'Date':USC00519281date,\n",
    "    'Temperature':USC00519281temp\n",
    "})\n",
    "\n",
    "#Creating a saving a histogram plot to display the Frequency of temperature values in F.\n",
    "ax=USC00519281_df.plot.hist('Temperature',figsize=(15,10),bins=12,fontsize=15)\n",
    "ax.legend(['tobs'],loc='upper right',fontsize=20)\n",
    "ax.set_xlabel(\"Temperature\",fontsize=20)\n",
    "ax.set_ylabel(\"Frequency\",fontsize=20)\n",
    "plt.title(f'Last 12 months of temperature observation data for {maxStationName}',fontsize=18)\n",
    "plt.savefig('images/histogram_tobs.png')"
   ]
  },
  {
   "cell_type": "markdown",
   "metadata": {},
   "source": [
    "## Bonus Challenge Assignment"
   ]
  },
  {
   "cell_type": "code",
   "execution_count": 25,
   "metadata": {},
   "outputs": [
    {
     "name": "stdout",
     "output_type": "stream",
     "text": [
      "[(62.0, 69.57142857142857, 74.0)]\n"
     ]
    }
   ],
   "source": [
    "# This function called `calc_temps` will accept start date and end date in the format '%Y-%m-%d' \n",
    "# and return the minimum, average, and maximum temperatures for that range of dates\n",
    "def calc_temps(start_date, end_date):\n",
    "    \"\"\"TMIN, TAVG, and TMAX for a list of dates.\n",
    "    \n",
    "    Args:\n",
    "        start_date (string): A date string in the format %Y-%m-%d\n",
    "        end_date (string): A date string in the format %Y-%m-%d\n",
    "        \n",
    "    Returns:\n",
    "        TMIN, TAVE, and TMAX\n",
    "    \"\"\"\n",
    "    \n",
    "    return session.query(func.min(Measurement.tobs), func.avg(Measurement.tobs), func.max(Measurement.tobs)).\\\n",
    "        filter(Measurement.date >= start_date).filter(Measurement.date <= end_date).all()\n",
    "\n",
    "# function usage example\n",
    "print(calc_temps('2012-02-28', '2012-03-05'))"
   ]
  },
  {
   "cell_type": "code",
   "execution_count": null,
   "metadata": {},
   "outputs": [],
   "source": []
  },
  {
   "cell_type": "code",
   "execution_count": 26,
   "metadata": {},
   "outputs": [],
   "source": [
    "########## Temperature Analysis I ###############\n",
    "\n",
    "# Started by creating a function that will return the average temperature \n",
    "# for a given month at all stations accross all years available\n",
    "\n",
    "def month_temp_values(month):\n",
    "    \"\"\"Daily Normals.\n",
    "    Args:\n",
    "        month (str): A date string in the format '%m'\n",
    "    Returns:\n",
    "        The average temperature for the given month\n",
    "    \"\"\"\n",
    "    return session.query(Measurement.tobs).\\\n",
    "        filter(func.strftime(\"%m\", Measurement.date) == month).all()"
   ]
  },
  {
   "cell_type": "code",
   "execution_count": 27,
   "metadata": {},
   "outputs": [],
   "source": [
    "junTobs=[]\n",
    "decTobs=[]\n",
    "\n",
    "for value in month_temp_values('06'):\n",
    "        junTobs.append(*value)\n",
    "for value in month_temp_values('12'):\n",
    "        decTobs.append(*value)"
   ]
  },
  {
   "cell_type": "code",
   "execution_count": 28,
   "metadata": {},
   "outputs": [
    {
     "name": "stdout",
     "output_type": "stream",
     "text": [
      "I used an unpaired/independent T-test because I am comparing 2 different samples. They are not related.\n",
      "\n",
      "Here are the values I got:\n",
      " - t value: 31.6\n",
      " - p value: 3.9025129038616655e-191\n",
      "\n",
      "\n"
     ]
    }
   ],
   "source": [
    "from scipy import stats\n",
    "from scipy import mean\n",
    "\n",
    "avgJuneTobs=mean(junTobs)\n",
    "avgDecTobs=mean(decTobs)\n",
    "\n",
    "avgTobs=[round(avgJuneTobs,2),round(avgDecTobs,2)]\n",
    "\n",
    "(stats,pvalue)=stats.ttest_ind(junTobs, decTobs)\n",
    "\n",
    "print(f'''I used an unpaired/independent T-test because I am comparing 2 different samples. They are not related.\n",
    "\n",
    "Here are the values I got:\n",
    " - t value: {round(stats,2)}\n",
    " - p value: {pvalue}\n",
    "\n",
    "''')"
   ]
  },
  {
   "cell_type": "code",
   "execution_count": 29,
   "metadata": {},
   "outputs": [
    {
     "data": {
      "text/html": [
       "<div>\n",
       "<style scoped>\n",
       "    .dataframe tbody tr th:only-of-type {\n",
       "        vertical-align: middle;\n",
       "    }\n",
       "\n",
       "    .dataframe tbody tr th {\n",
       "        vertical-align: top;\n",
       "    }\n",
       "\n",
       "    .dataframe thead th {\n",
       "        text-align: right;\n",
       "    }\n",
       "</style>\n",
       "<table border=\"1\" class=\"dataframe\">\n",
       "  <thead>\n",
       "    <tr style=\"text-align: right;\">\n",
       "      <th></th>\n",
       "      <th>Avg Temperature (F)</th>\n",
       "    </tr>\n",
       "    <tr>\n",
       "      <th>Month</th>\n",
       "      <th></th>\n",
       "    </tr>\n",
       "  </thead>\n",
       "  <tbody>\n",
       "    <tr>\n",
       "      <td>June</td>\n",
       "      <td>74.94</td>\n",
       "    </tr>\n",
       "    <tr>\n",
       "      <td>December</td>\n",
       "      <td>71.04</td>\n",
       "    </tr>\n",
       "  </tbody>\n",
       "</table>\n",
       "</div>"
      ],
      "text/plain": [
       "          Avg Temperature (F)\n",
       "Month                        \n",
       "June                    74.94\n",
       "December                71.04"
      ]
     },
     "execution_count": 29,
     "metadata": {},
     "output_type": "execute_result"
    }
   ],
   "source": [
    "# Created an array with the months we want to look at\n",
    "\n",
    "monthsName=['June','December']\n",
    "\n",
    "jun_dec_df=pd.DataFrame({\n",
    "    'Month':monthsName,\n",
    "    'Avg Temperature (F)':avgTobs,\n",
    "})\n",
    "\n",
    "jun_dec_df.set_index('Month')"
   ]
  },
  {
   "cell_type": "code",
   "execution_count": 31,
   "metadata": {},
   "outputs": [
    {
     "name": "stdout",
     "output_type": "stream",
     "text": [
      "My Trip will be the from March 1st to March 7th in 2018\n",
      "\n",
      "At the same time the year before we had:\n",
      "Minimum Temperature = 62.0F\n",
      "Average Temperature = 71.02F\n",
      "Maximum Temperature = 78.0F\n",
      "\n"
     ]
    }
   ],
   "source": [
    "########## Temperature Analysis II ###############\n",
    "\n",
    "# Use your previous function `calc_temps` to calculate the tmin, tavg, and tmax \n",
    "# for your trip using the previous year's data for those samedef calc_temps(start_date, end_date): dates.\n",
    "\n",
    "# Printing what are the times for my trip\n",
    "print('My Trip will be the from March 1st to March 7th in 2018')\n",
    "\n",
    "# Saving the start and end dates of my trip\n",
    "tripStartDate='2018-03-01'\n",
    "tripEndDate='2018-03-07'\n",
    "\n",
    "# Calculate the dates for 1 year before \n",
    "from datetime import date\n",
    "priorYearStart=f\"{(date.fromisoformat(tripStartDate).year)-1}-{(date.fromisoformat(tripStartDate)).strftime('%m-%d')}\"\n",
    "priorYearEnd=f\"{(date.fromisoformat(tripEndDate).year)-1}-{(date.fromisoformat(tripEndDate)).strftime('%m-%d')}\"\n",
    "\n",
    "# Call the function created before for the dates intervals calculated\n",
    "results=calc_temps(priorYearStart, priorYearEnd)\n",
    "\n",
    "# Unpacked the results\n",
    "for value in results:\n",
    "    (tempMin,tempAvg,tempMax)=value\n",
    "    \n",
    "# Printing the findings\n",
    "print(f'''\n",
    "At the same time the year before we had:\n",
    "Minimum Temperature = {round(tempMin,2)}F\n",
    "Average Temperature = {round(tempAvg,2)}F\n",
    "Maximum Temperature = {round(tempMax,2)}F\n",
    "''')"
   ]
  },
  {
   "cell_type": "code",
   "execution_count": 32,
   "metadata": {},
   "outputs": [
    {
     "data": {
      "image/png": "[encoded data removed]",
      "text/plain": [
       "<Figure size 432x720 with 1 Axes>"
      ]
     },
     "metadata": {
      "needs_background": "light"
     },
     "output_type": "display_data"
    }
   ],
   "source": [
    "# Plot the results from your previous query as a bar chart. \n",
    "# Use \"Trip Avg Temp\" as your Title\n",
    "# Use the average temperature for the y value\n",
    "# Use the peak-to-peak (tmax-tmin) value as the y error bar (yerr)\n",
    "\n",
    "# Calculating the values for the y error bar\n",
    "error=tempMax-tempMin\n",
    "\n",
    "# Creating and saving a single bar plot for the average \n",
    "# temperature the same time as my trip but the previous year\n",
    "\n",
    "fig = plt.figure(figsize=(6,10))\n",
    "ax = fig.add_axes([0.1,0.1,0.75,0.75])\n",
    "plt.bar(1,tempAvg,width=0.8,yerr=error,color='coral',alpha=0.5)\n",
    "ax.set_title('Trip Avg Temp')\n",
    "ax.set_ylabel('Temp (F)')\n",
    "ax.set_ylim(0,100)\n",
    "ax.set_xlim(0,2)\n",
    "ax.set_xticks([])\n",
    "plt.savefig('images/bonus_TempAnalysis2_AvgTemp.png')\n",
    "plt.show()"
   ]
  },
  {
   "cell_type": "code",
   "execution_count": 33,
   "metadata": {},
   "outputs": [
    {
     "data": {
      "text/html": [
       "<div>\n",
       "<style scoped>\n",
       "    .dataframe tbody tr th:only-of-type {\n",
       "        vertical-align: middle;\n",
       "    }\n",
       "\n",
       "    .dataframe tbody tr th {\n",
       "        vertical-align: top;\n",
       "    }\n",
       "\n",
       "    .dataframe thead th {\n",
       "        text-align: right;\n",
       "    }\n",
       "</style>\n",
       "<table border=\"1\" class=\"dataframe\">\n",
       "  <thead>\n",
       "    <tr style=\"text-align: right;\">\n",
       "      <th></th>\n",
       "      <th>Station ID</th>\n",
       "      <th>Station</th>\n",
       "      <th>Total Prcp</th>\n",
       "    </tr>\n",
       "  </thead>\n",
       "  <tbody>\n",
       "    <tr>\n",
       "      <td>0</td>\n",
       "      <td>USC00513117</td>\n",
       "      <td>KANEOHE 838.1, HI US</td>\n",
       "      <td>4.80</td>\n",
       "    </tr>\n",
       "    <tr>\n",
       "      <td>1</td>\n",
       "      <td>USC00519281</td>\n",
       "      <td>WAIHEE 837.5, HI US</td>\n",
       "      <td>4.71</td>\n",
       "    </tr>\n",
       "    <tr>\n",
       "      <td>2</td>\n",
       "      <td>USC00516128</td>\n",
       "      <td>MANOA LYON ARBO 785.2, HI US</td>\n",
       "      <td>3.49</td>\n",
       "    </tr>\n",
       "    <tr>\n",
       "      <td>3</td>\n",
       "      <td>USC00517948</td>\n",
       "      <td>PEARL CITY, HI US</td>\n",
       "      <td>2.98</td>\n",
       "    </tr>\n",
       "    <tr>\n",
       "      <td>4</td>\n",
       "      <td>USC00519397</td>\n",
       "      <td>WAIKIKI 717.2, HI US</td>\n",
       "      <td>2.74</td>\n",
       "    </tr>\n",
       "    <tr>\n",
       "      <td>5</td>\n",
       "      <td>USC00519523</td>\n",
       "      <td>WAIMANALO EXPERIMENTAL FARM, HI US</td>\n",
       "      <td>2.32</td>\n",
       "    </tr>\n",
       "    <tr>\n",
       "      <td>6</td>\n",
       "      <td>USC00514830</td>\n",
       "      <td>KUALOA RANCH HEADQUARTERS 886.9, HI US</td>\n",
       "      <td>1.12</td>\n",
       "    </tr>\n",
       "  </tbody>\n",
       "</table>\n",
       "</div>"
      ],
      "text/plain": [
       "    Station ID                                 Station  Total Prcp\n",
       "0  USC00513117                    KANEOHE 838.1, HI US        4.80\n",
       "1  USC00519281                     WAIHEE 837.5, HI US        4.71\n",
       "2  USC00516128            MANOA LYON ARBO 785.2, HI US        3.49\n",
       "3  USC00517948                       PEARL CITY, HI US        2.98\n",
       "4  USC00519397                    WAIKIKI 717.2, HI US        2.74\n",
       "5  USC00519523      WAIMANALO EXPERIMENTAL FARM, HI US        2.32\n",
       "6  USC00514830  KUALOA RANCH HEADQUARTERS 886.9, HI US        1.12"
      ]
     },
     "execution_count": 33,
     "metadata": {},
     "output_type": "execute_result"
    }
   ],
   "source": [
    "########## Daily Rainfall Average ##########\n",
    "\n",
    "# Calculate the total amount of rainfall per weather station for your trip dates using the previous year's matching dates.\n",
    "# Sort this in descending order by precipitation amount and list the station, name, latitude, longitude, and elevation\n",
    "\n",
    "# Querying the DB for total precipitation for each station for the previous' year matching date\n",
    "results=session.query(Station.station,Station.name,func.sum(Measurement.prcp)).\\\n",
    "                    filter(Station.station==Measurement.station).\\\n",
    "                    filter(Measurement.date >= priorYearStart).filter(Measurement.date <= priorYearEnd).\\\n",
    "                    group_by(Station.station).group_by(Station.name).\\\n",
    "                    order_by(func.sum(Measurement.prcp).desc())\n",
    "\n",
    "# Creating empty arrays to append values to later on\n",
    "id=[]\n",
    "name=[]\n",
    "prcp=[]\n",
    "\n",
    "# Unpacking and appending the values to the empty arrays created\n",
    "for value in results:\n",
    "    (stationid,stationname,totalprcp)=value\n",
    "    id.append(stationid)\n",
    "    name.append(stationname)\n",
    "    prcp.append(totalprcp)\n",
    "\n",
    "# Creating DF to show the data\n",
    "rainfall_df=pd.DataFrame({\n",
    "    'Station ID':id,\n",
    "    'Station':name,\n",
    "    'Total Prcp':prcp\n",
    "})\n",
    "rainfall_df"
   ]
  },
  {
   "cell_type": "code",
   "execution_count": 34,
   "metadata": {},
   "outputs": [],
   "source": [
    "# Create a query that will calculate the daily normals \n",
    "# (i.e. the averages for tmin, tmax, and tavg for all historic data matching a specific month and day)\n",
    "\n",
    "def daily_normals(date):\n",
    "    \"\"\"Daily Normals.\n",
    "    \n",
    "    Args:\n",
    "        date (str): A date string in the format '%m-%d'\n",
    "        \n",
    "    Returns:\n",
    "        A list of tuples containing the daily normals, tmin, tavg, and tmax\n",
    "    \n",
    "    \"\"\"\n",
    "    \n",
    "    sel = [func.min(Measurement.tobs), func.avg(Measurement.tobs), func.max(Measurement.tobs)]\n",
    "    return session.query(*sel).filter(func.strftime(\"%m-%d\", Measurement.date) == date).all()\n",
    "    "
   ]
  },
  {
   "cell_type": "code",
   "execution_count": 35,
   "metadata": {},
   "outputs": [
    {
     "data": {
      "text/plain": [
       "[(64.0, 70.0327868852459, 76.0),\n",
       " (61.0, 70.36666666666666, 78.0),\n",
       " (60.0, 70.06896551724138, 78.0),\n",
       " (57.0, 69.27272727272727, 77.0),\n",
       " (60.0, 67.89090909090909, 76.0),\n",
       " (60.0, 69.20338983050847, 76.0),\n",
       " (60.0, 69.17241379310344, 78.0)]"
      ]
     },
     "execution_count": 35,
     "metadata": {},
     "output_type": "execute_result"
    }
   ],
   "source": [
    "# calculate the daily normals for your trip\n",
    "# push each tuple of calculations into a list called `normals`\n",
    "\n",
    "# Set the start and end date of the trip\n",
    "\n",
    "# Use the start and end date to create a range of dates\n",
    "tripDates=pd.date_range(start=tripStartDate,end=tripEndDate)\n",
    "\n",
    "dateStrings=[]\n",
    "# Stip off the year and save a list of %m-%d strings\n",
    "for value in tripDates:\n",
    "    dateStrings.append(f\"{value.strftime('%m')}-{value.strftime('%d')}\")\n",
    "\n",
    "normals=[]\n",
    "# Loop through the list of %m-%d strings and calculate the normals for each date\n",
    "for date in dateStrings:                       \n",
    "    for value in daily_normals(date):\n",
    "        normals.append(value)\n",
    "normals"
   ]
  },
  {
   "cell_type": "code",
   "execution_count": 36,
   "metadata": {},
   "outputs": [
    {
     "data": {
      "text/html": [
       "<div>\n",
       "<style scoped>\n",
       "    .dataframe tbody tr th:only-of-type {\n",
       "        vertical-align: middle;\n",
       "    }\n",
       "\n",
       "    .dataframe tbody tr th {\n",
       "        vertical-align: top;\n",
       "    }\n",
       "\n",
       "    .dataframe thead th {\n",
       "        text-align: right;\n",
       "    }\n",
       "</style>\n",
       "<table border=\"1\" class=\"dataframe\">\n",
       "  <thead>\n",
       "    <tr style=\"text-align: right;\">\n",
       "      <th></th>\n",
       "      <th>Min Temp</th>\n",
       "      <th>Avg Temp</th>\n",
       "      <th>Max Temp</th>\n",
       "    </tr>\n",
       "    <tr>\n",
       "      <th>Date</th>\n",
       "      <th></th>\n",
       "      <th></th>\n",
       "      <th></th>\n",
       "    </tr>\n",
       "  </thead>\n",
       "  <tbody>\n",
       "    <tr>\n",
       "      <td>2018-03-01</td>\n",
       "      <td>64.0</td>\n",
       "      <td>70.032787</td>\n",
       "      <td>76.0</td>\n",
       "    </tr>\n",
       "    <tr>\n",
       "      <td>2018-03-02</td>\n",
       "      <td>61.0</td>\n",
       "      <td>70.366667</td>\n",
       "      <td>78.0</td>\n",
       "    </tr>\n",
       "    <tr>\n",
       "      <td>2018-03-03</td>\n",
       "      <td>60.0</td>\n",
       "      <td>70.068966</td>\n",
       "      <td>78.0</td>\n",
       "    </tr>\n",
       "    <tr>\n",
       "      <td>2018-03-04</td>\n",
       "      <td>57.0</td>\n",
       "      <td>69.272727</td>\n",
       "      <td>77.0</td>\n",
       "    </tr>\n",
       "    <tr>\n",
       "      <td>2018-03-05</td>\n",
       "      <td>60.0</td>\n",
       "      <td>67.890909</td>\n",
       "      <td>76.0</td>\n",
       "    </tr>\n",
       "    <tr>\n",
       "      <td>2018-03-06</td>\n",
       "      <td>60.0</td>\n",
       "      <td>69.203390</td>\n",
       "      <td>76.0</td>\n",
       "    </tr>\n",
       "    <tr>\n",
       "      <td>2018-03-07</td>\n",
       "      <td>60.0</td>\n",
       "      <td>69.172414</td>\n",
       "      <td>78.0</td>\n",
       "    </tr>\n",
       "  </tbody>\n",
       "</table>\n",
       "</div>"
      ],
      "text/plain": [
       "            Min Temp   Avg Temp  Max Temp\n",
       "Date                                     \n",
       "2018-03-01      64.0  70.032787      76.0\n",
       "2018-03-02      61.0  70.366667      78.0\n",
       "2018-03-03      60.0  70.068966      78.0\n",
       "2018-03-04      57.0  69.272727      77.0\n",
       "2018-03-05      60.0  67.890909      76.0\n",
       "2018-03-06      60.0  69.203390      76.0\n",
       "2018-03-07      60.0  69.172414      78.0"
      ]
     },
     "execution_count": 36,
     "metadata": {},
     "output_type": "execute_result"
    }
   ],
   "source": [
    "# Load the previous query results into a Pandas DataFrame and add the `trip_dates` range as the `date` index\n",
    "normals_df=pd.DataFrame(np.array(normals),columns=['Min Temp', 'Avg Temp', 'Max Temp'])\n",
    "normals_df['Date']=tripDates.strftime(\"%Y-%m-%d\")\n",
    "normals_df.set_index('Date')\n"
   ]
  },
  {
   "cell_type": "code",
   "execution_count": 37,
   "metadata": {
    "scrolled": false
   },
   "outputs": [
    {
     "data": {
      "image/png": "[encoded data removed]",
      "text/plain": [
       "<Figure size 1224x720 with 1 Axes>"
      ]
     },
     "metadata": {
      "needs_background": "light"
     },
     "output_type": "display_data"
    }
   ],
   "source": [
    "# Plot the daily normals as an area plot with `stacked=False`\n",
    "ax=normals_df.plot.area('Date',stacked=False,figsize=(17,10),fontsize=15)\n",
    "ax.set_xticklabels(normals_df['Date'], rotation=30, ha='right')\n",
    "ax.set_ylabel('Temperature (F)',fontsize=20)\n",
    "ax.set_xlabel('Date',fontsize=20)\n",
    "ax.set_title('Temperature Daily Normals\\n',fontsize=25)\n",
    "plt.savefig('images/bonus_DailyRainfallAvg_TempDailyNormals')"
   ]
  }
 ],
 "metadata": {
  "kernel_info": {
   "name": "python3"
  },
  "kernelspec": {
   "display_name": "Python 3",
   "language": "python",
   "name": "python3"
  },
  "language_info": {
   "codemirror_mode": {
    "name": "ipython",
    "version": 3
   },
   "file_extension": ".py",
   "mimetype": "text/x-python",
   "name": "python",
   "nbconvert_exporter": "python",
   "pygments_lexer": "ipython3",
   "version": "3.7.4"
  },
  "nteract": {
   "version": "0.12.3"
  },
  "varInspector": {
   "cols": {
    "lenName": 16,
    "lenType": 16,
    "lenVar": 40
   },
   "kernels_config": {
    "python": {
     "delete_cmd_postfix": "",
     "delete_cmd_prefix": "del ",
     "library": "var_list.py",
     "varRefreshCmd": "print(var_dic_list())"
    },
    "r": {
     "delete_cmd_postfix": ") ",
     "delete_cmd_prefix": "rm(",
     "library": "var_list.r",
     "varRefreshCmd": "cat(var_dic_list()) "
    }
   },
   "types_to_exclude": [
    "module",
    "function",
    "builtin_function_or_method",
    "instance",
    "_Feature"
   ],
   "window_display": false
  }
 },
 "nbformat": 4,
 "nbformat_minor": 2
}
